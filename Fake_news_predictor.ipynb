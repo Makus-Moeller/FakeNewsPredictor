{
 "cells": [
  {
   "cell_type": "code",
   "execution_count": 5,
   "id": "13c8a6b9",
   "metadata": {},
   "outputs": [],
   "source": [
    "import logging\n",
    "logging.root.handlers = []  # Jupyter messes up logging so needs a reset\n",
    "logging.basicConfig(format='%(asctime)s : %(levelname)s : %(message)s', level=logging.INFO)\n",
    "from smart_open import smart_open\n",
    "import pandas as pd\n",
    "import numpy as np\n",
    "from numpy import random\n",
    "import gensim\n",
    "import nltk\n",
    "from sklearn.model_selection import train_test_split\n",
    "from sklearn import linear_model\n",
    "from sklearn.feature_extraction.text import CountVectorizer, TfidfVectorizer\n",
    "from sklearn.metrics import accuracy_score, confusion_matrix\n",
    "import matplotlib.pyplot as plt\n",
    "from gensim.models import Word2Vec\n",
    "from sklearn.neighbors import KNeighborsClassifier\n",
    "from sklearn import linear_model\n",
    "from nltk.corpus import stopwords\n",
    "from sklearn.decomposition import PCA\n",
    "from sklearn.ensemble import RandomForestClassifier\n",
    "from sklearn.naive_bayes import GaussianNB\n",
    "from sklearn.neural_network import MLPClassifier\n",
    "from sklearn import preprocessing\n",
    "from scipy import sparse\n",
    "from sklearn import metrics\n",
    "\n",
    "import psycopg2\n",
    "from tqdm import tqdm\n",
    "from sklearn import utils\n",
    "from testfixtures import log_capture\n",
    "\n",
    "%matplotlib inline"
   ]
  },
  {
   "cell_type": "code",
   "execution_count": null,
   "id": "69880f74",
   "metadata": {},
   "outputs": [],
   "source": []
  },
  {
   "cell_type": "markdown",
   "id": "244577b4",
   "metadata": {},
   "source": [
    "Inspiration for this notebook is found at: https://github.com/RaRe-Technologies/movie-plots-by-genre/blob/master/Document%20classification%20with%20word%20embeddings%20tutorial.ipynb"
   ]
  },
  {
   "cell_type": "markdown",
   "id": "55262aa2",
   "metadata": {},
   "source": [
    "# Get data from database"
   ]
  },
  {
   "cell_type": "code",
   "execution_count": 6,
   "id": "18905bb3",
   "metadata": {},
   "outputs": [],
   "source": [
    "#Establish connection to the database and create cursor\n",
    "conn = psycopg2.connect(\n",
    "    host=\"localhost\",\n",
    "    database=\"Fakenews detector\",\n",
    "    user=\"postgres\",\n",
    "    password=\"password\")\n",
    "\n",
    "all_data = pd.read_sql('''with temp_table as (select A.id, A.content, A.length_txt, T.bin_type  \n",
    "    from articles A left join type_relation T on  A.type = T.type_og \n",
    "    where type is not null and T.bin_type is not null)\n",
    "\n",
    "    select L.url, temp_table.id, temp_table.length_txt, temp_table.content, temp_table.bin_type \n",
    "    from location L inner join temp_table on L.id = temp_table.id ''', conn)\n"
   ]
  },
  {
   "cell_type": "code",
   "execution_count": 7,
   "id": "28514ab9",
   "metadata": {},
   "outputs": [
    {
     "data": {
      "text/html": [
       "<div>\n",
       "<style scoped>\n",
       "    .dataframe tbody tr th:only-of-type {\n",
       "        vertical-align: middle;\n",
       "    }\n",
       "\n",
       "    .dataframe tbody tr th {\n",
       "        vertical-align: top;\n",
       "    }\n",
       "\n",
       "    .dataframe thead th {\n",
       "        text-align: right;\n",
       "    }\n",
       "</style>\n",
       "<table border=\"1\" class=\"dataframe\">\n",
       "  <thead>\n",
       "    <tr style=\"text-align: right;\">\n",
       "      <th></th>\n",
       "      <th>url</th>\n",
       "      <th>id</th>\n",
       "      <th>length_txt</th>\n",
       "      <th>content</th>\n",
       "      <th>bin_type</th>\n",
       "    </tr>\n",
       "  </thead>\n",
       "  <tbody>\n",
       "    <tr>\n",
       "      <th>0</th>\n",
       "      <td>http://yournewswire.com/law-enforcement-ask-pu...</td>\n",
       "      <td>185128</td>\n",
       "      <td>52</td>\n",
       "      <td>polic washington state ask public stop tweet s...</td>\n",
       "      <td>real</td>\n",
       "    </tr>\n",
       "    <tr>\n",
       "      <th>1</th>\n",
       "      <td>http://yournewswire.com/obama-announcing-go-it...</td>\n",
       "      <td>185349</td>\n",
       "      <td>453</td>\n",
       "      <td>obama immigr plan accord articl yahoo news pre...</td>\n",
       "      <td>real</td>\n",
       "    </tr>\n",
       "    <tr>\n",
       "      <th>2</th>\n",
       "      <td>http://yournewswire.com/bp-to-pay-18-7bn-for-d...</td>\n",
       "      <td>185623</td>\n",
       "      <td>288</td>\n",
       "      <td>deepwat horizon oil spill kill &lt; number &gt; work...</td>\n",
       "      <td>real</td>\n",
       "    </tr>\n",
       "    <tr>\n",
       "      <th>3</th>\n",
       "      <td>http://yournewswire.com/hillary-russian-hacker...</td>\n",
       "      <td>186123</td>\n",
       "      <td>166</td>\n",
       "      <td>hillari clinton care concoct plan accus russia...</td>\n",
       "      <td>real</td>\n",
       "    </tr>\n",
       "    <tr>\n",
       "      <th>4</th>\n",
       "      <td>http://yournewswire.com/trump-surrogate-cites-...</td>\n",
       "      <td>186720</td>\n",
       "      <td>309</td>\n",
       "      <td>promin donald trump surrog suggest intern japa...</td>\n",
       "      <td>real</td>\n",
       "    </tr>\n",
       "    <tr>\n",
       "      <th>...</th>\n",
       "      <td>...</td>\n",
       "      <td>...</td>\n",
       "      <td>...</td>\n",
       "      <td>...</td>\n",
       "      <td>...</td>\n",
       "    </tr>\n",
       "    <tr>\n",
       "      <th>719758</th>\n",
       "      <td>https://wikispooks.com/wiki/Special:SearchByPr...</td>\n",
       "      <td>249915</td>\n",
       "      <td>74</td>\n",
       "      <td>search properti list page properti creation da...</td>\n",
       "      <td>fake</td>\n",
       "    </tr>\n",
       "    <tr>\n",
       "      <th>719759</th>\n",
       "      <td>https://wikispooks.com/wiki/Special:SearchByPr...</td>\n",
       "      <td>250025</td>\n",
       "      <td>59</td>\n",
       "      <td>search properti list page properti descript va...</td>\n",
       "      <td>fake</td>\n",
       "    </tr>\n",
       "    <tr>\n",
       "      <th>719760</th>\n",
       "      <td>https://wikispooks.com/wiki/Special:SearchByPr...</td>\n",
       "      <td>250036</td>\n",
       "      <td>74</td>\n",
       "      <td>search properti list page properti creation da...</td>\n",
       "      <td>fake</td>\n",
       "    </tr>\n",
       "    <tr>\n",
       "      <th>719761</th>\n",
       "      <td>https://www.pravda.ru/society/fashion/couture/...</td>\n",
       "      <td>250332</td>\n",
       "      <td>1355</td>\n",
       "      <td>atomnyi arkhangelsk obretaet novuiu zhizn na v...</td>\n",
       "      <td>fake</td>\n",
       "    </tr>\n",
       "    <tr>\n",
       "      <th>719762</th>\n",
       "      <td>https://consciouslifenews.com/free-energy-slow...</td>\n",
       "      <td>250974</td>\n",
       "      <td>651</td>\n",
       "      <td>activist post | aug &lt; number &gt; &lt; number &gt; tesl...</td>\n",
       "      <td>fake</td>\n",
       "    </tr>\n",
       "  </tbody>\n",
       "</table>\n",
       "<p>719763 rows × 5 columns</p>\n",
       "</div>"
      ],
      "text/plain": [
       "                                                      url      id  length_txt  \\\n",
       "0       http://yournewswire.com/law-enforcement-ask-pu...  185128          52   \n",
       "1       http://yournewswire.com/obama-announcing-go-it...  185349         453   \n",
       "2       http://yournewswire.com/bp-to-pay-18-7bn-for-d...  185623         288   \n",
       "3       http://yournewswire.com/hillary-russian-hacker...  186123         166   \n",
       "4       http://yournewswire.com/trump-surrogate-cites-...  186720         309   \n",
       "...                                                   ...     ...         ...   \n",
       "719758  https://wikispooks.com/wiki/Special:SearchByPr...  249915          74   \n",
       "719759  https://wikispooks.com/wiki/Special:SearchByPr...  250025          59   \n",
       "719760  https://wikispooks.com/wiki/Special:SearchByPr...  250036          74   \n",
       "719761  https://www.pravda.ru/society/fashion/couture/...  250332        1355   \n",
       "719762  https://consciouslifenews.com/free-energy-slow...  250974         651   \n",
       "\n",
       "                                                  content bin_type  \n",
       "0       polic washington state ask public stop tweet s...     real  \n",
       "1       obama immigr plan accord articl yahoo news pre...     real  \n",
       "2       deepwat horizon oil spill kill < number > work...     real  \n",
       "3       hillari clinton care concoct plan accus russia...     real  \n",
       "4       promin donald trump surrog suggest intern japa...     real  \n",
       "...                                                   ...      ...  \n",
       "719758  search properti list page properti creation da...     fake  \n",
       "719759  search properti list page properti descript va...     fake  \n",
       "719760  search properti list page properti creation da...     fake  \n",
       "719761  atomnyi arkhangelsk obretaet novuiu zhizn na v...     fake  \n",
       "719762  activist post | aug < number > < number > tesl...     fake  \n",
       "\n",
       "[719763 rows x 5 columns]"
      ]
     },
     "execution_count": 7,
     "metadata": {},
     "output_type": "execute_result"
    }
   ],
   "source": [
    "all_data"
   ]
  },
  {
   "cell_type": "code",
   "execution_count": null,
   "id": "37420d74",
   "metadata": {},
   "outputs": [],
   "source": []
  },
  {
   "cell_type": "code",
   "execution_count": 8,
   "id": "145fe69e",
   "metadata": {},
   "outputs": [],
   "source": [
    "df = all_data[['content','bin_type','length_txt']].sample(50000)\n",
    "df.reset_index(drop=True,inplace=True)"
   ]
  },
  {
   "cell_type": "code",
   "execution_count": 9,
   "id": "32dc5d25",
   "metadata": {},
   "outputs": [
    {
     "data": {
      "text/html": [
       "<div>\n",
       "<style scoped>\n",
       "    .dataframe tbody tr th:only-of-type {\n",
       "        vertical-align: middle;\n",
       "    }\n",
       "\n",
       "    .dataframe tbody tr th {\n",
       "        vertical-align: top;\n",
       "    }\n",
       "\n",
       "    .dataframe thead th {\n",
       "        text-align: right;\n",
       "    }\n",
       "</style>\n",
       "<table border=\"1\" class=\"dataframe\">\n",
       "  <thead>\n",
       "    <tr style=\"text-align: right;\">\n",
       "      <th></th>\n",
       "      <th>content</th>\n",
       "      <th>bin_type</th>\n",
       "      <th>length_txt</th>\n",
       "    </tr>\n",
       "  </thead>\n",
       "  <tbody>\n",
       "    <tr>\n",
       "      <th>0</th>\n",
       "      <td>credit karl magnacca pith post review find pat...</td>\n",
       "      <td>fake</td>\n",
       "      <td>1147</td>\n",
       "    </tr>\n",
       "    <tr>\n",
       "      <th>1</th>\n",
       "      <td>obama administr announc plan cheaper slim mili...</td>\n",
       "      <td>real</td>\n",
       "      <td>251</td>\n",
       "    </tr>\n",
       "    <tr>\n",
       "      <th>2</th>\n",
       "      <td>one standard meme russia demograph trajectori ...</td>\n",
       "      <td>fake</td>\n",
       "      <td>688</td>\n",
       "    </tr>\n",
       "    <tr>\n",
       "      <th>3</th>\n",
       "      <td>ope start transgend support line although &lt; nu...</td>\n",
       "      <td>real</td>\n",
       "      <td>535</td>\n",
       "    </tr>\n",
       "    <tr>\n",
       "      <th>4</th>\n",
       "      <td>yes actual said &lt; url &gt; link stori politicocom...</td>\n",
       "      <td>real</td>\n",
       "      <td>76</td>\n",
       "    </tr>\n",
       "    <tr>\n",
       "      <th>...</th>\n",
       "      <td>...</td>\n",
       "      <td>...</td>\n",
       "      <td>...</td>\n",
       "    </tr>\n",
       "    <tr>\n",
       "      <th>49995</th>\n",
       "      <td>melania trump put michell obama shame epic way...</td>\n",
       "      <td>fake</td>\n",
       "      <td>314</td>\n",
       "    </tr>\n",
       "    <tr>\n",
       "      <th>49996</th>\n",
       "      <td>senat major leader harri reid may endang incum...</td>\n",
       "      <td>fake</td>\n",
       "      <td>33</td>\n",
       "    </tr>\n",
       "    <tr>\n",
       "      <th>49997</th>\n",
       "      <td>standard opinion ever sinc set foot new contin...</td>\n",
       "      <td>real</td>\n",
       "      <td>21</td>\n",
       "    </tr>\n",
       "    <tr>\n",
       "      <th>49998</th>\n",
       "      <td>fair use notic mani stori site contain copyrig...</td>\n",
       "      <td>fake</td>\n",
       "      <td>134</td>\n",
       "    </tr>\n",
       "    <tr>\n",
       "      <th>49999</th>\n",
       "      <td>subobject predefin properti repres contain con...</td>\n",
       "      <td>fake</td>\n",
       "      <td>14</td>\n",
       "    </tr>\n",
       "  </tbody>\n",
       "</table>\n",
       "<p>50000 rows × 3 columns</p>\n",
       "</div>"
      ],
      "text/plain": [
       "                                                 content bin_type  length_txt\n",
       "0      credit karl magnacca pith post review find pat...     fake        1147\n",
       "1      obama administr announc plan cheaper slim mili...     real         251\n",
       "2      one standard meme russia demograph trajectori ...     fake         688\n",
       "3      ope start transgend support line although < nu...     real         535\n",
       "4      yes actual said < url > link stori politicocom...     real          76\n",
       "...                                                  ...      ...         ...\n",
       "49995  melania trump put michell obama shame epic way...     fake         314\n",
       "49996  senat major leader harri reid may endang incum...     fake          33\n",
       "49997  standard opinion ever sinc set foot new contin...     real          21\n",
       "49998  fair use notic mani stori site contain copyrig...     fake         134\n",
       "49999  subobject predefin properti repres contain con...     fake          14\n",
       "\n",
       "[50000 rows x 3 columns]"
      ]
     },
     "execution_count": 9,
     "metadata": {},
     "output_type": "execute_result"
    }
   ],
   "source": [
    "df"
   ]
  },
  {
   "cell_type": "markdown",
   "id": "e14b780c",
   "metadata": {},
   "source": [
    "### Dataframes for LIAR dataset "
   ]
  },
  {
   "cell_type": "code",
   "execution_count": 10,
   "id": "1065027f",
   "metadata": {},
   "outputs": [],
   "source": [
    "df_LIAR = pd.read_csv('Project/Training_cleaned_LIAR_Real.csv')"
   ]
  },
  {
   "cell_type": "code",
   "execution_count": 11,
   "id": "d9fa723c",
   "metadata": {},
   "outputs": [
    {
     "data": {
      "text/plain": [
       "<AxesSubplot:>"
      ]
     },
     "execution_count": 11,
     "metadata": {},
     "output_type": "execute_result"
    },
    {
     "data": {
      "image/png": "[encoded data removed]",
      "text/plain": [
       "<Figure size 432x288 with 1 Axes>"
      ]
     },
     "metadata": {
      "needs_background": "light"
     },
     "output_type": "display_data"
    }
   ],
   "source": [
    "df_LIAR.type.value_counts().plot(kind=\"bar\", rot=0)"
   ]
  },
  {
   "cell_type": "code",
   "execution_count": 12,
   "id": "6a8df8cd",
   "metadata": {},
   "outputs": [],
   "source": [
    "def map_type(typee):\n",
    "    if (typee == 'false') or (typee == 'barely-true') or (typee == 'pants-fire'):\n",
    "        return 'fake'\n",
    "    else: \n",
    "        return 'real'\n",
    "df_LIAR['type'] = df_LIAR['type'].apply(lambda x: map_type(x))"
   ]
  },
  {
   "cell_type": "code",
   "execution_count": 13,
   "id": "834a17db",
   "metadata": {},
   "outputs": [
    {
     "data": {
      "text/plain": [
       "<AxesSubplot:>"
      ]
     },
     "execution_count": 13,
     "metadata": {},
     "output_type": "execute_result"
    },
    {
     "data": {
      "image/png": "[encoded data removed]",
      "text/plain": [
       "<Figure size 432x288 with 1 Axes>"
      ]
     },
     "metadata": {
      "needs_background": "light"
     },
     "output_type": "display_data"
    }
   ],
   "source": [
    "df_LIAR.type.value_counts().plot(kind=\"bar\", rot=0)"
   ]
  },
  {
   "cell_type": "code",
   "execution_count": 14,
   "id": "8d8885c7",
   "metadata": {},
   "outputs": [
    {
     "data": {
      "text/plain": [
       "real    8925\n",
       "fake    3588\n",
       "Name: type, dtype: int64"
      ]
     },
     "execution_count": 14,
     "metadata": {},
     "output_type": "execute_result"
    }
   ],
   "source": [
    "df_LIAR.type.value_counts()"
   ]
  },
  {
   "cell_type": "code",
   "execution_count": 15,
   "id": "d9a915a7",
   "metadata": {},
   "outputs": [
    {
     "data": {
      "text/plain": [
       "0.7132582114600815"
      ]
     },
     "execution_count": 15,
     "metadata": {},
     "output_type": "execute_result"
    }
   ],
   "source": [
    "8925/(8925+3588)"
   ]
  },
  {
   "cell_type": "code",
   "execution_count": null,
   "id": "31617086",
   "metadata": {
    "scrolled": true
   },
   "outputs": [],
   "source": []
  },
  {
   "cell_type": "markdown",
   "id": "6c274fcc",
   "metadata": {},
   "source": [
    "# Exploring data"
   ]
  },
  {
   "cell_type": "markdown",
   "id": "7fa2a849",
   "metadata": {},
   "source": [
    "Amount of words in our sample. "
   ]
  },
  {
   "cell_type": "code",
   "execution_count": 16,
   "id": "b20ba4ac",
   "metadata": {},
   "outputs": [
    {
     "data": {
      "text/plain": [
       "16395124"
      ]
     },
     "execution_count": 16,
     "metadata": {},
     "output_type": "execute_result"
    }
   ],
   "source": [
    "df['content'].apply(lambda x: len(x.split(' '))).sum()"
   ]
  },
  {
   "cell_type": "code",
   "execution_count": 17,
   "id": "91123dc2",
   "metadata": {},
   "outputs": [
    {
     "data": {
      "text/plain": [
       "<AxesSubplot:>"
      ]
     },
     "execution_count": 17,
     "metadata": {},
     "output_type": "execute_result"
    },
    {
     "data": {
      "image/png": "[encoded data removed]",
      "text/plain": [
       "<Figure size 432x288 with 1 Axes>"
      ]
     },
     "metadata": {
      "needs_background": "light"
     },
     "output_type": "display_data"
    }
   ],
   "source": [
    "my_tags = ['fake' , 'real']\n",
    "df.bin_type.value_counts().plot(kind=\"bar\", rot=0)"
   ]
  },
  {
   "cell_type": "markdown",
   "id": "7dfe3258",
   "metadata": {},
   "source": [
    "The data is pretty balanced. We though have fake as majority class.\n",
    "\n",
    "A naive classifier that predicts everything to be fake already achieves  > 50% accuracy."
   ]
  },
  {
   "cell_type": "code",
   "execution_count": 18,
   "id": "f2c4835f",
   "metadata": {},
   "outputs": [
    {
     "data": {
      "text/plain": [
       "fake    27676\n",
       "real    22324\n",
       "Name: bin_type, dtype: int64"
      ]
     },
     "execution_count": 18,
     "metadata": {},
     "output_type": "execute_result"
    }
   ],
   "source": [
    "df.bin_type.value_counts()"
   ]
  },
  {
   "cell_type": "code",
   "execution_count": 19,
   "id": "3cc774c7",
   "metadata": {},
   "outputs": [
    {
     "data": {
      "text/plain": [
       "0.55454"
      ]
     },
     "execution_count": 19,
     "metadata": {},
     "output_type": "execute_result"
    }
   ],
   "source": [
    "27727/(27727+22273)"
   ]
  },
  {
   "cell_type": "code",
   "execution_count": 20,
   "id": "b9685af8",
   "metadata": {},
   "outputs": [],
   "source": [
    "def print_content(index):\n",
    "    example = df[df.index == index].values[0]\n",
    "    if len(example) > 0:\n",
    "        print(example[0])\n",
    "        print('Genre:', example[1])"
   ]
  },
  {
   "cell_type": "code",
   "execution_count": 21,
   "id": "2b067580",
   "metadata": {},
   "outputs": [
    {
     "name": "stdout",
     "output_type": "stream",
     "text": [
      "email screen name password confirm password pleas type code click regist confirm agre privaci polici give consent process person data accord privaci polici\n",
      "Genre: fake\n"
     ]
    }
   ],
   "source": [
    "print_content(5)"
   ]
  },
  {
   "cell_type": "code",
   "execution_count": 22,
   "id": "85802b58",
   "metadata": {},
   "outputs": [],
   "source": [
    "train_data, test_data = train_test_split(df, test_size=0.2, random_state=42)"
   ]
  },
  {
   "cell_type": "code",
   "execution_count": 23,
   "id": "8c412a14",
   "metadata": {},
   "outputs": [],
   "source": [
    "train_length_txt = train_data['length_txt']\n",
    "test_length_txt = test_data['length_txt']\n",
    "\n",
    "train_data = train_data[['content', 'bin_type']]\n",
    "test_data = test_data[['content', 'bin_type']] "
   ]
  },
  {
   "cell_type": "code",
   "execution_count": null,
   "id": "c4e39174",
   "metadata": {},
   "outputs": [],
   "source": []
  },
  {
   "cell_type": "code",
   "execution_count": 24,
   "id": "bd94dccc",
   "metadata": {},
   "outputs": [
    {
     "data": {
      "text/plain": [
       "<AxesSubplot:>"
      ]
     },
     "execution_count": 24,
     "metadata": {},
     "output_type": "execute_result"
    },
    {
     "data": {
      "image/png": "[encoded data removed]",
      "text/plain": [
       "<Figure size 432x288 with 1 Axes>"
      ]
     },
     "metadata": {
      "needs_background": "light"
     },
     "output_type": "display_data"
    }
   ],
   "source": [
    "test_data.bin_type.value_counts().plot(kind=\"bar\", rot=0)"
   ]
  },
  {
   "cell_type": "markdown",
   "id": "0e5da177",
   "metadata": {},
   "source": [
    "# Model evaluation approach"
   ]
  },
  {
   "cell_type": "markdown",
   "id": "52fa16d6",
   "metadata": {},
   "source": [
    "We will use confusion matrices to evaluate all classifiers"
   ]
  },
  {
   "cell_type": "code",
   "execution_count": 25,
   "id": "4b6675e2",
   "metadata": {},
   "outputs": [],
   "source": [
    "def plot_confusion_matrix(cm, title='Confusion matrix', cmap=plt.cm.Blues):\n",
    "    plt.imshow(cm, interpolation='nearest', cmap=cmap)\n",
    "    plt.title(title)\n",
    "    plt.colorbar()\n",
    "    tick_marks = np.arange(len(my_tags))\n",
    "    target_names = my_tags\n",
    "    plt.xticks(tick_marks, target_names, rotation=45)\n",
    "    plt.yticks(tick_marks, target_names)\n",
    "    plt.tight_layout()\n",
    "    plt.ylabel('True label')\n",
    "    plt.xlabel('Predicted label')"
   ]
  },
  {
   "cell_type": "code",
   "execution_count": 26,
   "id": "8f694975",
   "metadata": {},
   "outputs": [],
   "source": [
    "def evaluate_prediction(predictions, target, title=\"Confusion matrix\"):\n",
    "    print('accuracy %s' % accuracy_score(target, predictions))\n",
    "    cm = confusion_matrix(target, predictions)\n",
    "    print('confusion matrix\\n %s' % cm)\n",
    "    print('(row=expected, col=predicted)')\n",
    "    \n",
    "    cm_normalized = cm.astype('float') / cm.sum(axis=1)[:, np.newaxis]\n",
    "    plot_confusion_matrix(cm_normalized, title + ' Normalized')"
   ]
  },
  {
   "cell_type": "code",
   "execution_count": 27,
   "id": "ae8ddd84",
   "metadata": {},
   "outputs": [],
   "source": [
    "def predict(vectorizer, classifier, data):\n",
    "    data_features = vectorizer.transform(data['content'])\n",
    "    predictions = classifier.predict(data_features)\n",
    "    target = data['bin_type']\n",
    "    evaluate_prediction(predictions, target)"
   ]
  },
  {
   "cell_type": "code",
   "execution_count": 28,
   "id": "a1633c16",
   "metadata": {},
   "outputs": [],
   "source": [
    "def predict_PCA(vectorizer, classifier, data, pca):\n",
    "    data_features = vectorizer.transform(data['content'])\n",
    "    data_PCA = pca.fit_transform(data_features.toarray())\n",
    "    predictions = classifier.predict(data_PCA)\n",
    "    target = data['bin_type']\n",
    "    evaluate_prediction(predictions, target)"
   ]
  },
  {
   "cell_type": "code",
   "execution_count": 29,
   "id": "e3d87950",
   "metadata": {},
   "outputs": [],
   "source": [
    "def predict_dense(vectorizer, classifier, data):\n",
    "    data_features = vectorizer.transform(data['content'])\n",
    "    predictions = classifier.predict(data_features.toarray())\n",
    "    target = data['bin_type']\n",
    "    evaluate_prediction(predictions, target)"
   ]
  },
  {
   "cell_type": "code",
   "execution_count": 30,
   "id": "e6970648",
   "metadata": {},
   "outputs": [],
   "source": [
    "def predict_LIAR(vectorizer, classifier, data):\n",
    "    data_features = vectorizer.transform(data['content'])\n",
    "    predictions = classifier.predict(data_features)\n",
    "    target = data['type']\n",
    "    evaluate_prediction(predictions, target)"
   ]
  },
  {
   "cell_type": "code",
   "execution_count": 31,
   "id": "d946712c",
   "metadata": {},
   "outputs": [],
   "source": [
    "def predict_LIAR_dense(vectorizer, classifier, data):\n",
    "    data_features = vectorizer.transform(data['content'])\n",
    "    predictions = classifier.predict(data_features.toarray())\n",
    "    target = data['type']\n",
    "    evaluate_prediction(predictions, target)"
   ]
  },
  {
   "cell_type": "code",
   "execution_count": 32,
   "id": "06bcb8b0",
   "metadata": {},
   "outputs": [],
   "source": [
    "def predict_Length(vectorizer, classifier, data, length_data):\n",
    "    length_data = length_data.to_numpy().astype(np.float32).reshape((len(length_data),1))\n",
    "    data_features = vectorizer.transform(data['content'])\n",
    "    data_features = np.append(data_features.toarray(), length_data, axis=1)\n",
    "    data_features = sparse.csr_matrix(data_features)\n",
    "    predictions = classifier.predict(data_features)\n",
    "    target = data['bin_type']\n",
    "    evaluate_prediction(predictions, target)"
   ]
  },
  {
   "cell_type": "code",
   "execution_count": 33,
   "id": "3130f902",
   "metadata": {},
   "outputs": [],
   "source": [
    "def predict_Length_dense(vectorizer, classifier, data, length_data):\n",
    "    length_data = length_data.to_numpy().astype(np.float32).reshape((len(length_data),1))\n",
    "    data_features = vectorizer.transform(data['content'])\n",
    "    data_features = np.append(data_features.toarray(), length_data, axis=1)\n",
    "    data_features = sparse.csr_matrix(data_features)\n",
    "    predictions = classifier.predict(data_features.toarray())\n",
    "    target = data['bin_type']\n",
    "    evaluate_prediction(predictions, target)"
   ]
  },
  {
   "cell_type": "markdown",
   "id": "beaf9464",
   "metadata": {},
   "source": [
    "# TF-IDF"
   ]
  },
  {
   "cell_type": "markdown",
   "id": "59860389",
   "metadata": {},
   "source": [
    "We remove stop-words and use NLTK tokenizer then limit our vocabulary to 3k most frequent words."
   ]
  },
  {
   "cell_type": "code",
   "execution_count": 34,
   "id": "f7370536",
   "metadata": {},
   "outputs": [],
   "source": [
    "def tokenize_text(text):\n",
    "    tokens = []\n",
    "    for sent in nltk.sent_tokenize(text):\n",
    "        for word in nltk.word_tokenize(sent):\n",
    "            if len(word) < 2:\n",
    "                continue\n",
    "            tokens.append(word.lower())\n",
    "    return tokens"
   ]
  },
  {
   "cell_type": "markdown",
   "id": "106c66f1",
   "metadata": {},
   "source": [
    "White box vectorizer and classifier are great! We can see what are the most important words for sci-fi. This makes it very easy to tune and debug."
   ]
  },
  {
   "cell_type": "code",
   "execution_count": 35,
   "id": "9004b724",
   "metadata": {},
   "outputs": [],
   "source": [
    "def most_influential_words(vectorizer, genre_index=0, num_words=10):\n",
    "    features = vectorizer.get_feature_names_out()\n",
    "    max_coef = sorted(enumerate(logreg.coef_[genre_index]), key=lambda x:x[1], reverse=True)\n",
    "    return [features[x[0]] for x in max_coef[:num_words]]    "
   ]
  },
  {
   "cell_type": "markdown",
   "id": "1d85b6f4",
   "metadata": {},
   "source": [
    "Term Frequency - Inverse Document Frequency is a little more advanced way to count words in a document. It adjusts for document length, word frequency and most importantly for frequency of a particular word in a particular document."
   ]
  },
  {
   "cell_type": "markdown",
   "id": "f4613cf9",
   "metadata": {},
   "source": [
    "## Time to make tf-idf  "
   ]
  },
  {
   "cell_type": "markdown",
   "id": "c2e657b0",
   "metadata": {},
   "source": [
    "We choose a vocab of 20,000 most frequent words to save space. "
   ]
  },
  {
   "cell_type": "code",
   "execution_count": 36,
   "id": "740716d8",
   "metadata": {},
   "outputs": [
    {
     "name": "stdout",
     "output_type": "stream",
     "text": [
      "Wall time: 45 s\n"
     ]
    }
   ],
   "source": [
    "%%time\n",
    "tf_vect = TfidfVectorizer(\n",
    "    min_df=2, tokenizer=nltk.word_tokenize,\n",
    "    preprocessor=None, stop_words='english', max_features=20000)\n",
    "train_data_features = tf_vect.fit_transform(train_data['content'])"
   ]
  },
  {
   "cell_type": "markdown",
   "id": "244a759b",
   "metadata": {},
   "source": [
    "Try to make TF_idf with all words."
   ]
  },
  {
   "cell_type": "code",
   "execution_count": 37,
   "id": "67b88110",
   "metadata": {},
   "outputs": [
    {
     "name": "stdout",
     "output_type": "stream",
     "text": [
      "Wall time: 46.2 s\n"
     ]
    }
   ],
   "source": [
    "%%time\n",
    "tf_vect_50 = TfidfVectorizer(\n",
    "    min_df=2, tokenizer=nltk.word_tokenize,\n",
    "    preprocessor=None, stop_words='english', max_features=50000)\n",
    "train_data_features_50 = tf_vect.fit_transform(train_data['content'])"
   ]
  },
  {
   "cell_type": "markdown",
   "id": "fc3dd969",
   "metadata": {},
   "source": [
    "## Log reg model without PCA "
   ]
  },
  {
   "cell_type": "code",
   "execution_count": 38,
   "id": "eedd8235",
   "metadata": {},
   "outputs": [],
   "source": [
    "logreg = linear_model.LogisticRegression(n_jobs=1, C=1e5, max_iter=6000)\n",
    "logreg = logreg.fit(train_data_features, train_data['bin_type'])"
   ]
  },
  {
   "cell_type": "code",
   "execution_count": 39,
   "id": "eab95cf1",
   "metadata": {},
   "outputs": [
    {
     "data": {
      "text/plain": [
       "array(['approv', 'approx', 'approxim', 'apr', 'april', 'apropo', 'apt',\n",
       "       'aptitud', 'aq', 'aqap', 'aqi', 'aquabounti', 'aquarium',\n",
       "       'aquarius', 'aquat', 'aqui', 'aquif', 'aquina', 'aquino', 'ar'],\n",
       "      dtype=object)"
      ]
     },
     "execution_count": 39,
     "metadata": {},
     "output_type": "execute_result"
    }
   ],
   "source": [
    "tf_vect.get_feature_names_out()[1000:1020]"
   ]
  },
  {
   "cell_type": "code",
   "execution_count": 40,
   "id": "dd197891",
   "metadata": {},
   "outputs": [
    {
     "name": "stdout",
     "output_type": "stream",
     "text": [
      "accuracy 0.8202\n",
      "confusion matrix\n",
      " [[4655  911]\n",
      " [ 887 3547]]\n",
      "(row=expected, col=predicted)\n"
     ]
    },
    {
     "data": {
      "image/png": "[encoded data removed]",
      "text/plain": [
       "<Figure size 432x288 with 2 Axes>"
      ]
     },
     "metadata": {
      "needs_background": "light"
     },
     "output_type": "display_data"
    }
   ],
   "source": [
    "predict(tf_vect, logreg, test_data)"
   ]
  },
  {
   "cell_type": "code",
   "execution_count": 41,
   "id": "d6dbfc5f",
   "metadata": {},
   "outputs": [
    {
     "data": {
      "text/plain": [
       "['diari',\n",
       " 'lifesitenewscom',\n",
       " 'rec',\n",
       " 'kos',\n",
       " 'greger',\n",
       " 'stumbleupon',\n",
       " 'shutterstock',\n",
       " 'lifesitenew',\n",
       " 'crosspost',\n",
       " 'roar']"
      ]
     },
     "execution_count": 41,
     "metadata": {},
     "output_type": "execute_result"
    }
   ],
   "source": [
    "most_influential_words(tf_vect, 0)"
   ]
  },
  {
   "cell_type": "markdown",
   "id": "50c71fb1",
   "metadata": {},
   "source": [
    "### With metadata "
   ]
  },
  {
   "cell_type": "code",
   "execution_count": 42,
   "id": "ec99e144",
   "metadata": {},
   "outputs": [
    {
     "data": {
      "text/plain": [
       "<40000x20000 sparse matrix of type '<class 'numpy.float64'>'\n",
       "\twith 6460446 stored elements in Compressed Sparse Row format>"
      ]
     },
     "execution_count": 42,
     "metadata": {},
     "output_type": "execute_result"
    }
   ],
   "source": [
    "train_data_features"
   ]
  },
  {
   "cell_type": "code",
   "execution_count": 43,
   "id": "f0abedee",
   "metadata": {},
   "outputs": [],
   "source": [
    "#make Series as np array\n",
    "new_train = train_length_txt.to_numpy().astype(np.float32)\n",
    "#reshape \n",
    "new_train = new_train.reshape((len(new_train),1))\n",
    "#append to train_data_features\n",
    "new_train = np.append(train_data_features.toarray(), new_train, axis=1)\n",
    "#Make sparse again\n",
    "new_train = sparse.csr_matrix(new_train)"
   ]
  },
  {
   "cell_type": "code",
   "execution_count": 44,
   "id": "08701603",
   "metadata": {},
   "outputs": [
    {
     "name": "stderr",
     "output_type": "stream",
     "text": [
      "C:\\Users\\Markus\\anaconda3\\lib\\site-packages\\sklearn\\linear_model\\_logistic.py:814: ConvergenceWarning: lbfgs failed to converge (status=1):\n",
      "STOP: TOTAL NO. of ITERATIONS REACHED LIMIT.\n",
      "\n",
      "Increase the number of iterations (max_iter) or scale the data as shown in:\n",
      "    https://scikit-learn.org/stable/modules/preprocessing.html\n",
      "Please also refer to the documentation for alternative solver options:\n",
      "    https://scikit-learn.org/stable/modules/linear_model.html#logistic-regression\n",
      "  n_iter_i = _check_optimize_result(\n"
     ]
    }
   ],
   "source": [
    "#Fit on new X\n",
    "logreg = logreg.fit(new_train, train_data['bin_type'])"
   ]
  },
  {
   "cell_type": "code",
   "execution_count": 45,
   "id": "7867f8d3",
   "metadata": {},
   "outputs": [
    {
     "name": "stdout",
     "output_type": "stream",
     "text": [
      "accuracy 0.8323\n",
      "confusion matrix\n",
      " [[4709  857]\n",
      " [ 820 3614]]\n",
      "(row=expected, col=predicted)\n"
     ]
    },
    {
     "data": {
      "image/png": "[encoded data removed]",
      "text/plain": [
       "<Figure size 432x288 with 2 Axes>"
      ]
     },
     "metadata": {
      "needs_background": "light"
     },
     "output_type": "display_data"
    }
   ],
   "source": [
    "predict_Length(tf_vect, logreg, test_data, test_length_txt)"
   ]
  },
  {
   "cell_type": "markdown",
   "id": "0407cfee",
   "metadata": {},
   "source": [
    "### LIAR "
   ]
  },
  {
   "cell_type": "code",
   "execution_count": 46,
   "id": "efd95c1c",
   "metadata": {},
   "outputs": [],
   "source": [
    "logreg = linear_model.LogisticRegression(n_jobs=1, C=1e5, max_iter=6000)\n",
    "logreg = logreg.fit(train_data_features, train_data['bin_type'])"
   ]
  },
  {
   "cell_type": "code",
   "execution_count": 47,
   "id": "a6a7b4f8",
   "metadata": {},
   "outputs": [],
   "source": [
    "LIAR_test = df_LIAR[['content', 'type']]"
   ]
  },
  {
   "cell_type": "code",
   "execution_count": 48,
   "id": "77242bd5",
   "metadata": {},
   "outputs": [
    {
     "data": {
      "text/html": [
       "<div>\n",
       "<style scoped>\n",
       "    .dataframe tbody tr th:only-of-type {\n",
       "        vertical-align: middle;\n",
       "    }\n",
       "\n",
       "    .dataframe tbody tr th {\n",
       "        vertical-align: top;\n",
       "    }\n",
       "\n",
       "    .dataframe thead th {\n",
       "        text-align: right;\n",
       "    }\n",
       "</style>\n",
       "<table border=\"1\" class=\"dataframe\">\n",
       "  <thead>\n",
       "    <tr style=\"text-align: right;\">\n",
       "      <th></th>\n",
       "      <th>content</th>\n",
       "      <th>type</th>\n",
       "    </tr>\n",
       "  </thead>\n",
       "  <tbody>\n",
       "    <tr>\n",
       "      <th>0</th>\n",
       "      <td>hillari clinton agre john mccain vote give geo...</td>\n",
       "      <td>real</td>\n",
       "    </tr>\n",
       "    <tr>\n",
       "      <th>1</th>\n",
       "      <td>health care reform legisl like mandat free sex...</td>\n",
       "      <td>real</td>\n",
       "    </tr>\n",
       "    <tr>\n",
       "      <th>2</th>\n",
       "      <td>econom turnaround start end term</td>\n",
       "      <td>real</td>\n",
       "    </tr>\n",
       "    <tr>\n",
       "      <th>3</th>\n",
       "      <td>chicago bear start quarterback last &lt; number &gt;...</td>\n",
       "      <td>real</td>\n",
       "    </tr>\n",
       "    <tr>\n",
       "      <th>4</th>\n",
       "      <td>jim dunnam live district repres year</td>\n",
       "      <td>fake</td>\n",
       "    </tr>\n",
       "    <tr>\n",
       "      <th>5</th>\n",
       "      <td>im person stage work activ last year pass alon...</td>\n",
       "      <td>real</td>\n",
       "    </tr>\n",
       "    <tr>\n",
       "      <th>6</th>\n",
       "      <td>howev took $ &lt; number &gt; million oregon lotteri...</td>\n",
       "      <td>real</td>\n",
       "    </tr>\n",
       "    <tr>\n",
       "      <th>7</th>\n",
       "      <td>say gop primari oppon glenn grothman joe leibh...</td>\n",
       "      <td>real</td>\n",
       "    </tr>\n",
       "    <tr>\n",
       "      <th>8</th>\n",
       "      <td>first time histori share nation popular vote m...</td>\n",
       "      <td>real</td>\n",
       "    </tr>\n",
       "    <tr>\n",
       "      <th>9</th>\n",
       "      <td>sinc &lt; number &gt; near &lt; number &gt; million americ...</td>\n",
       "      <td>real</td>\n",
       "    </tr>\n",
       "  </tbody>\n",
       "</table>\n",
       "</div>"
      ],
      "text/plain": [
       "                                             content  type\n",
       "0  hillari clinton agre john mccain vote give geo...  real\n",
       "1  health care reform legisl like mandat free sex...  real\n",
       "2                   econom turnaround start end term  real\n",
       "3  chicago bear start quarterback last < number >...  real\n",
       "4               jim dunnam live district repres year  fake\n",
       "5  im person stage work activ last year pass alon...  real\n",
       "6  howev took $ < number > million oregon lotteri...  real\n",
       "7  say gop primari oppon glenn grothman joe leibh...  real\n",
       "8  first time histori share nation popular vote m...  real\n",
       "9  sinc < number > near < number > million americ...  real"
      ]
     },
     "execution_count": 48,
     "metadata": {},
     "output_type": "execute_result"
    }
   ],
   "source": [
    "LIAR_test.head(10)"
   ]
  },
  {
   "cell_type": "code",
   "execution_count": 49,
   "id": "edc625b9",
   "metadata": {},
   "outputs": [
    {
     "name": "stdout",
     "output_type": "stream",
     "text": [
      "accuracy 0.5745224966035323\n",
      "confusion matrix\n",
      " [[1261 2327]\n",
      " [2997 5928]]\n",
      "(row=expected, col=predicted)\n"
     ]
    },
    {
     "data": {
      "image/png": "[encoded data removed]",
      "text/plain": [
       "<Figure size 432x288 with 2 Axes>"
      ]
     },
     "metadata": {
      "needs_background": "light"
     },
     "output_type": "display_data"
    }
   ],
   "source": [
    "predict_LIAR(tf_vect, logreg, LIAR_test)"
   ]
  },
  {
   "cell_type": "markdown",
   "id": "af2168d7",
   "metadata": {},
   "source": [
    "## Random Forrest without PCA"
   ]
  },
  {
   "cell_type": "code",
   "execution_count": 50,
   "id": "d0cc5015",
   "metadata": {},
   "outputs": [
    {
     "data": {
      "text/plain": [
       "<40000x20000 sparse matrix of type '<class 'numpy.float64'>'\n",
       "\twith 6460446 stored elements in Compressed Sparse Row format>"
      ]
     },
     "execution_count": 50,
     "metadata": {},
     "output_type": "execute_result"
    }
   ],
   "source": [
    "train_data_features"
   ]
  },
  {
   "cell_type": "code",
   "execution_count": 51,
   "id": "dffb82f9",
   "metadata": {},
   "outputs": [],
   "source": [
    "# WE define for measurements Posetive to be real news, and negative to be false news.\n",
    "\n",
    "Rand_forrest = RandomForestClassifier(n_estimators = 100, criterion = 'entropy', max_depth = 20, max_features = 'sqrt', n_jobs=8)\n",
    "Rand_forrest = Rand_forrest.fit(train_data_features, train_data['bin_type'])\n"
   ]
  },
  {
   "cell_type": "code",
   "execution_count": 52,
   "id": "a77c0092",
   "metadata": {},
   "outputs": [
    {
     "name": "stdout",
     "output_type": "stream",
     "text": [
      "accuracy 0.8111\n",
      "confusion matrix\n",
      " [[4636  930]\n",
      " [ 959 3475]]\n",
      "(row=expected, col=predicted)\n"
     ]
    },
    {
     "data": {
      "image/png": "[encoded data removed]",
      "text/plain": [
       "<Figure size 432x288 with 2 Axes>"
      ]
     },
     "metadata": {
      "needs_background": "light"
     },
     "output_type": "display_data"
    }
   ],
   "source": [
    "predict(tf_vect, Rand_forrest, test_data)"
   ]
  },
  {
   "cell_type": "markdown",
   "id": "83f50d29",
   "metadata": {},
   "source": [
    "### Random forest with 50k features "
   ]
  },
  {
   "cell_type": "code",
   "execution_count": 53,
   "id": "02d186e6",
   "metadata": {},
   "outputs": [
    {
     "name": "stdout",
     "output_type": "stream",
     "text": [
      "accuracy 0.8071\n",
      "confusion matrix\n",
      " [[4622  944]\n",
      " [ 985 3449]]\n",
      "(row=expected, col=predicted)\n"
     ]
    },
    {
     "data": {
      "image/png": "[encoded data removed]",
      "text/plain": [
       "<Figure size 432x288 with 2 Axes>"
      ]
     },
     "metadata": {
      "needs_background": "light"
     },
     "output_type": "display_data"
    }
   ],
   "source": [
    "Rand_forrest_50 = RandomForestClassifier(n_estimators = 100, criterion = 'entropy', max_depth = 20, max_features = 'sqrt', n_jobs=8)\n",
    "Rand_forrest_50 = Rand_forrest_50.fit(train_data_features_50, train_data['bin_type'])\n",
    "\n",
    "predict(tf_vect, Rand_forrest_50, test_data)"
   ]
  },
  {
   "cell_type": "markdown",
   "id": "3456f57d",
   "metadata": {},
   "source": [
    "### LIAR dataset "
   ]
  },
  {
   "cell_type": "code",
   "execution_count": 54,
   "id": "0cdb71de",
   "metadata": {},
   "outputs": [
    {
     "name": "stdout",
     "output_type": "stream",
     "text": [
      "accuracy 0.34124510509070566\n",
      "confusion matrix\n",
      " [[3103  485]\n",
      " [7758 1167]]\n",
      "(row=expected, col=predicted)\n"
     ]
    },
    {
     "data": {
      "image/png": "[encoded data removed]",
      "text/plain": [
       "<Figure size 432x288 with 2 Axes>"
      ]
     },
     "metadata": {
      "needs_background": "light"
     },
     "output_type": "display_data"
    }
   ],
   "source": [
    "predict_LIAR(tf_vect, Rand_forrest_50, LIAR_test)"
   ]
  },
  {
   "cell_type": "markdown",
   "id": "f7c05c05",
   "metadata": {},
   "source": [
    "## Bayes Naive"
   ]
  },
  {
   "cell_type": "code",
   "execution_count": 55,
   "id": "6e1b4e42",
   "metadata": {},
   "outputs": [
    {
     "name": "stdout",
     "output_type": "stream",
     "text": [
      "accuracy 0.7299\n",
      "confusion matrix\n",
      " [[3285 2281]\n",
      " [ 420 4014]]\n",
      "(row=expected, col=predicted)\n"
     ]
    },
    {
     "data": {
      "image/png": "[encoded data removed]",
      "text/plain": [
       "<Figure size 432x288 with 2 Axes>"
      ]
     },
     "metadata": {
      "needs_background": "light"
     },
     "output_type": "display_data"
    }
   ],
   "source": [
    "# SCIkit link: https://scikit-learn.org/stable/modules/naive_bayes.html\n",
    "gnb = GaussianNB()\n",
    "gnb = gnb.fit(train_data_features.toarray(), train_data['bin_type'])\n",
    "\n",
    "predict_dense(tf_vect, gnb, test_data)"
   ]
  },
  {
   "cell_type": "markdown",
   "id": "b74ec973",
   "metadata": {},
   "source": [
    "### LIAR dataset "
   ]
  },
  {
   "cell_type": "code",
   "execution_count": 56,
   "id": "efcb507b",
   "metadata": {},
   "outputs": [
    {
     "name": "stdout",
     "output_type": "stream",
     "text": [
      "accuracy 0.6856868856389355\n",
      "confusion matrix\n",
      " [[ 243 3345]\n",
      " [ 588 8337]]\n",
      "(row=expected, col=predicted)\n"
     ]
    },
    {
     "data": {
      "image/png": "[encoded data removed]",
      "text/plain": [
       "<Figure size 432x288 with 2 Axes>"
      ]
     },
     "metadata": {
      "needs_background": "light"
     },
     "output_type": "display_data"
    }
   ],
   "source": [
    "predict_LIAR_dense(tf_vect, gnb, LIAR_test)"
   ]
  },
  {
   "cell_type": "markdown",
   "id": "932498b0",
   "metadata": {},
   "source": [
    "### With Metadata "
   ]
  },
  {
   "cell_type": "code",
   "execution_count": 57,
   "id": "f41b47cd",
   "metadata": {},
   "outputs": [
    {
     "name": "stdout",
     "output_type": "stream",
     "text": [
      "accuracy 0.7852\n",
      "confusion matrix\n",
      " [[4667  899]\n",
      " [1249 3185]]\n",
      "(row=expected, col=predicted)\n"
     ]
    },
    {
     "data": {
      "image/png": "[encoded data removed]",
      "text/plain": [
       "<Figure size 432x288 with 2 Axes>"
      ]
     },
     "metadata": {
      "needs_background": "light"
     },
     "output_type": "display_data"
    }
   ],
   "source": [
    "gnb = gnb.fit(new_train.toarray(), train_data['bin_type'])\n",
    "\n",
    "predict_Length_dense(tf_vect, gnb, test_data, test_length_txt)"
   ]
  },
  {
   "cell_type": "markdown",
   "id": "0667e6c7",
   "metadata": {},
   "source": [
    "## Neural network "
   ]
  },
  {
   "cell_type": "code",
   "execution_count": 58,
   "id": "de082257",
   "metadata": {},
   "outputs": [],
   "source": [
    "clf = MLPClassifier(solver='lbfgs', max_iter = 6000, alpha=1e-5, hidden_layer_sizes=(6, 2), random_state=1)\n",
    "clf = clf.fit(train_data_features, train_data['bin_type'])"
   ]
  },
  {
   "cell_type": "code",
   "execution_count": 59,
   "id": "25475584",
   "metadata": {},
   "outputs": [
    {
     "name": "stdout",
     "output_type": "stream",
     "text": [
      "accuracy 0.8329\n",
      "confusion matrix\n",
      " [[4720  846]\n",
      " [ 825 3609]]\n",
      "(row=expected, col=predicted)\n"
     ]
    },
    {
     "data": {
      "image/png": "[encoded data removed]",
      "text/plain": [
       "<Figure size 432x288 with 2 Axes>"
      ]
     },
     "metadata": {
      "needs_background": "light"
     },
     "output_type": "display_data"
    }
   ],
   "source": [
    "predict(tf_vect, clf, test_data)"
   ]
  },
  {
   "cell_type": "markdown",
   "id": "41cf8391",
   "metadata": {},
   "source": [
    "### Test on LIAR dataset  "
   ]
  },
  {
   "cell_type": "code",
   "execution_count": 60,
   "id": "04a89aed",
   "metadata": {},
   "outputs": [
    {
     "name": "stdout",
     "output_type": "stream",
     "text": [
      "accuracy 0.5806760968592664\n",
      "confusion matrix\n",
      " [[1204 2384]\n",
      " [2863 6062]]\n",
      "(row=expected, col=predicted)\n"
     ]
    },
    {
     "data": {
      "image/png": "[encoded data removed]",
      "text/plain": [
       "<Figure size 432x288 with 2 Axes>"
      ]
     },
     "metadata": {
      "needs_background": "light"
     },
     "output_type": "display_data"
    }
   ],
   "source": [
    "predict_LIAR(tf_vect, clf, LIAR_test)"
   ]
  },
  {
   "cell_type": "markdown",
   "id": "1cd1c99e",
   "metadata": {},
   "source": [
    "## Statistics of accuracy"
   ]
  },
  {
   "cell_type": "code",
   "execution_count": 61,
   "id": "cace5090",
   "metadata": {},
   "outputs": [],
   "source": [
    "# Importing the required libs\n",
    "from tqdm import tqdm\n",
    "from scipy.stats import norm, chi2\n",
    "from scipy.stats import t as t_dist\n",
    "from sklearn.datasets import load_wine\n",
    "from sklearn.metrics import accuracy_score\n",
    "from sklearn.ensemble import RandomForestClassifier\n",
    "from sklearn.neighbors import KNeighborsClassifier\n",
    "from sklearn.model_selection import train_test_split, KFold\n",
    "\n",
    "# Libs implementations\n",
    "from mlxtend.evaluate import mcnemar\n",
    "from mlxtend.evaluate import mcnemar_table\n",
    "from mlxtend.evaluate import paired_ttest_5x2cv\n",
    "from mlxtend.evaluate import proportion_difference\n",
    "from mlxtend.evaluate import paired_ttest_kfold_cv\n",
    "from mlxtend.evaluate import paired_ttest_resampled\n",
    "\n"
   ]
  },
  {
   "cell_type": "code",
   "execution_count": 62,
   "id": "0eec6a19",
   "metadata": {},
   "outputs": [],
   "source": [
    "#To begin with I compare random f. and neural net. against log reg which has the best accuracy.\n",
    "#I begin with randoom forest against log reg.\n",
    "\n",
    "predicted_Randfor = Rand_forrest.predict(tf_vect.transform(test_data['content']))\n",
    "predicted_logreg = logreg.predict(tf_vect.transform(test_data['content']))\n",
    "predicted_neural = clf.predict(tf_vect.transform(test_data['content']))\n",
    "real_labels = test_data['bin_type'].to_numpy()"
   ]
  },
  {
   "cell_type": "code",
   "execution_count": 63,
   "id": "7aefbb76",
   "metadata": {},
   "outputs": [
    {
     "name": "stdout",
     "output_type": "stream",
     "text": [
      "McNemar's test: random forrest vs. log reg\n",
      "chi² statistic: 3.7656903765690375, p-value: 0.05231425786695537\n",
      "\n"
     ]
    }
   ],
   "source": [
    "print(\"McNemar's test: random forrest vs. log reg\")\n",
    "table = mcnemar_table(y_target=real_labels, y_model1=predicted_Randfor, y_model2=predicted_logreg)\n",
    "chi2_, p = mcnemar(ary=table, corrected=True)\n",
    "print(f\"chi² statistic: {chi2_}, p-value: {p}\\n\")"
   ]
  },
  {
   "cell_type": "code",
   "execution_count": 64,
   "id": "2858c9d9",
   "metadata": {},
   "outputs": [
    {
     "name": "stdout",
     "output_type": "stream",
     "text": [
      "McNemar's test: neural network vs. log reg\n",
      "chi² statistic: 22.90909090909091, p-value: 1.6984666430537982e-06\n",
      "\n"
     ]
    }
   ],
   "source": [
    "print(\"McNemar's test: neural network vs. log reg\")\n",
    "table = mcnemar_table(y_target=real_labels, y_model1=predicted_neural, y_model2=predicted_logreg)\n",
    "chi2_, p = mcnemar(ary=table, corrected=True)\n",
    "print(f\"chi² statistic: {chi2_}, p-value: {p}\\n\")"
   ]
  },
  {
   "cell_type": "code",
   "execution_count": 65,
   "id": "8b87b4a7",
   "metadata": {},
   "outputs": [
    {
     "name": "stdout",
     "output_type": "stream",
     "text": [
      "McNemar's test: random forrest vs. neural network\n",
      "chi² statistic: 22.748309178743963, p-value: 1.8466654822258137e-06\n",
      "\n"
     ]
    }
   ],
   "source": [
    "print(\"McNemar's test: random forrest vs. neural network\")\n",
    "table = mcnemar_table(y_target=real_labels, y_model1=predicted_Randfor, y_model2=predicted_neural)\n",
    "chi2_, p = mcnemar(ary=table, corrected=True)\n",
    "print(f\"chi² statistic: {chi2_}, p-value: {p}\\n\")"
   ]
  },
  {
   "cell_type": "code",
   "execution_count": 66,
   "id": "f785d009",
   "metadata": {},
   "outputs": [
    {
     "data": {
      "text/html": [
       "<div>\n",
       "<style scoped>\n",
       "    .dataframe tbody tr th:only-of-type {\n",
       "        vertical-align: middle;\n",
       "    }\n",
       "\n",
       "    .dataframe tbody tr th {\n",
       "        vertical-align: top;\n",
       "    }\n",
       "\n",
       "    .dataframe thead th {\n",
       "        text-align: right;\n",
       "    }\n",
       "</style>\n",
       "<table border=\"1\" class=\"dataframe\">\n",
       "  <thead>\n",
       "    <tr style=\"text-align: right;\">\n",
       "      <th></th>\n",
       "      <th>content</th>\n",
       "      <th>bin_type</th>\n",
       "    </tr>\n",
       "  </thead>\n",
       "  <tbody>\n",
       "    <tr>\n",
       "      <th>33553</th>\n",
       "      <td>santorum dont write book dont brown exampl you...</td>\n",
       "      <td>real</td>\n",
       "    </tr>\n",
       "    <tr>\n",
       "      <th>9427</th>\n",
       "      <td>Â©ï¸dr ilya sandra perlingieri august &lt; numbe...</td>\n",
       "      <td>fake</td>\n",
       "    </tr>\n",
       "    <tr>\n",
       "      <th>199</th>\n",
       "      <td>soviet spys dire warn &lt; number &gt; year ago come...</td>\n",
       "      <td>fake</td>\n",
       "    </tr>\n",
       "    <tr>\n",
       "      <th>12447</th>\n",
       "      <td>look someth page look found longer avail tri s...</td>\n",
       "      <td>fake</td>\n",
       "    </tr>\n",
       "    <tr>\n",
       "      <th>39489</th>\n",
       "      <td>fair use notic mani stori site contain copyrig...</td>\n",
       "      <td>fake</td>\n",
       "    </tr>\n",
       "    <tr>\n",
       "      <th>...</th>\n",
       "      <td>...</td>\n",
       "      <td>...</td>\n",
       "    </tr>\n",
       "    <tr>\n",
       "      <th>28567</th>\n",
       "      <td>stuck motel room wait car repair flick channel...</td>\n",
       "      <td>real</td>\n",
       "    </tr>\n",
       "    <tr>\n",
       "      <th>25079</th>\n",
       "      <td>&lt; number &gt; share facebook twitter reddit stumb...</td>\n",
       "      <td>real</td>\n",
       "    </tr>\n",
       "    <tr>\n",
       "      <th>18707</th>\n",
       "      <td>wilkerson courtappoint attorney keep fight cli...</td>\n",
       "      <td>fake</td>\n",
       "    </tr>\n",
       "    <tr>\n",
       "      <th>15200</th>\n",
       "      <td>oakland better way express feel verdict thousa...</td>\n",
       "      <td>fake</td>\n",
       "    </tr>\n",
       "    <tr>\n",
       "      <th>5857</th>\n",
       "      <td>china dairi industri scrutin key player growth...</td>\n",
       "      <td>fake</td>\n",
       "    </tr>\n",
       "  </tbody>\n",
       "</table>\n",
       "<p>10000 rows × 2 columns</p>\n",
       "</div>"
      ],
      "text/plain": [
       "                                                 content bin_type\n",
       "33553  santorum dont write book dont brown exampl you...     real\n",
       "9427   Â©ï¸dr ilya sandra perlingieri august < numbe...     fake\n",
       "199    soviet spys dire warn < number > year ago come...     fake\n",
       "12447  look someth page look found longer avail tri s...     fake\n",
       "39489  fair use notic mani stori site contain copyrig...     fake\n",
       "...                                                  ...      ...\n",
       "28567  stuck motel room wait car repair flick channel...     real\n",
       "25079  < number > share facebook twitter reddit stumb...     real\n",
       "18707  wilkerson courtappoint attorney keep fight cli...     fake\n",
       "15200  oakland better way express feel verdict thousa...     fake\n",
       "5857   china dairi industri scrutin key player growth...     fake\n",
       "\n",
       "[10000 rows x 2 columns]"
      ]
     },
     "execution_count": 66,
     "metadata": {},
     "output_type": "execute_result"
    }
   ],
   "source": [
    "test_data"
   ]
  },
  {
   "cell_type": "markdown",
   "id": "e7e590e8",
   "metadata": {},
   "source": [
    "## ROC Curve"
   ]
  },
  {
   "cell_type": "code",
   "execution_count": 67,
   "id": "03ef4c0c",
   "metadata": {},
   "outputs": [],
   "source": [
    "#define metrics\n",
    "y_pred_proba_RF = Rand_forrest.predict_proba(tf_vect.transform(test_data['content']))[::,1]\n",
    "y_pred_proba_NN = clf.predict_proba(tf_vect.transform(test_data['content']))[::,1]\n",
    "\n",
    "fpr_RF, tpr_RF, _ = metrics.roc_curve(test_data['bin_type'].to_numpy(),  y_pred_proba_RF, pos_label='real')\n",
    "fpr_NN, tpr_NN, _ = metrics.roc_curve(test_data['bin_type'].to_numpy(),  y_pred_proba_NN, pos_label='real')"
   ]
  },
  {
   "cell_type": "code",
   "execution_count": 68,
   "id": "aa42a88f",
   "metadata": {},
   "outputs": [
    {
     "data": {
      "image/png": "[encoded data removed]",
      "text/plain": [
       "<Figure size 432x288 with 1 Axes>"
      ]
     },
     "metadata": {
      "needs_background": "light"
     },
     "output_type": "display_data"
    }
   ],
   "source": [
    "plt.figure()\n",
    "lw = 2\n",
    "plt.plot(fpr_RF,tpr_RF, lw=2, label=\"ROC curve of RF (area = %0.2f)\" % metrics.auc(fpr_RF, tpr_RF))\n",
    "plt.plot(fpr_NN,tpr_NN, lw=2, label=\"ROC curve of NN (area = %0.2f)\" % metrics.auc(fpr_NN, tpr_NN))\n",
    "plt.ylabel('True Positive Rate')\n",
    "plt.xlabel('False Positive Rate')\n",
    "plt.plot([0, 1], [0, 1], color=\"navy\", lw=lw, linestyle=\"--\")\n",
    "plt.xlim([0.0, 1.0])\n",
    "plt.ylim([0.0, 1.05])\n",
    "plt.xlabel(\"False Positive Rate\")\n",
    "plt.ylabel(\"True Positive Rate\")\n",
    "plt.title(\"Receiver operating characteristic\")\n",
    "plt.legend(loc=\"lower right\")\n",
    "plt.show()"
   ]
  },
  {
   "cell_type": "markdown",
   "id": "fa88b2d0",
   "metadata": {},
   "source": [
    "# Averaging Word Vectors"
   ]
  },
  {
   "cell_type": "markdown",
   "id": "11acefa5",
   "metadata": {},
   "source": [
    "Now let's use more complex features rather than just counting words.\n",
    "\n",
    "A great recent achievement of NLP is the word2vec embedding. See Chris Moody's video for a great introduction to word2vec.\n",
    "\n",
    "First we load a word2vec model. It has been pre-trained by Google on a 100 billon word Google News corpus. You can play with this model using a fun web-app.\n",
    "\n",
    "Link to the web-app: http://rare-technologies.com/word2vec-tutorial/#app\n",
    "\n",
    "Vocabulary size: 3 mln words."
   ]
  },
  {
   "cell_type": "code",
   "execution_count": 69,
   "id": "081b5e79",
   "metadata": {},
   "outputs": [
    {
     "name": "stderr",
     "output_type": "stream",
     "text": [
      "2022-06-10 11:58:08,416 : INFO : loading projection weights from C:/Users/Markus/OneDrive/Dokumenter/4. Semester/DataScience/Project/GoogleNews-vectors-negative300.bin.gz\n",
      "2022-06-10 11:58:52,245 : INFO : KeyedVectors lifecycle event {'msg': 'loaded (3000000, 300) matrix of type float32 from C:/Users/Markus/OneDrive/Dokumenter/4. Semester/DataScience/Project/GoogleNews-vectors-negative300.bin.gz', 'binary': True, 'encoding': 'utf8', 'datetime': '2022-06-10T11:58:52.245832', 'gensim': '4.2.0', 'python': '3.9.7 (default, Sep 16 2021, 16:59:28) [MSC v.1916 64 bit (AMD64)]', 'platform': 'Windows-10-10.0.19043-SP0', 'event': 'load_word2vec_format'}\n",
      "<timed exec>:2: DeprecationWarning: Call to deprecated `init_sims` (Use fill_norms() instead. See https://github.com/RaRe-Technologies/gensim/wiki/Migrating-from-Gensim-3.x-to-4).\n",
      "2022-06-10 11:58:53,959 : WARNING : destructive init_sims(replace=True) deprecated & no longer required for space-efficiency\n"
     ]
    },
    {
     "name": "stdout",
     "output_type": "stream",
     "text": [
      "Wall time: 46.2 s\n"
     ]
    }
   ],
   "source": [
    "%%time \n",
    "wv = gensim.models.KeyedVectors.load_word2vec_format( \"C:/Users/Markus/OneDrive/Dokumenter/4. Semester/DataScience/Project/GoogleNews-vectors-negative300.bin.gz\", binary=True)\n",
    "wv.init_sims(replace=True)"
   ]
  },
  {
   "cell_type": "code",
   "execution_count": 70,
   "id": "b5b5522b",
   "metadata": {},
   "outputs": [
    {
     "data": {
      "text/plain": [
       "['indoors',\n",
       " 'commercially',\n",
       " 'scouts',\n",
       " 'State_Condoleezza_Rice',\n",
       " 'Election_Day',\n",
       " 'satellites',\n",
       " 'Dalton',\n",
       " 'Pack',\n",
       " 'Marina',\n",
       " 'Cherry',\n",
       " 'selective',\n",
       " 'dear',\n",
       " 'scout',\n",
       " 'blogger',\n",
       " 'Tony_Blair',\n",
       " 'Nairobi',\n",
       " 'Zurich',\n",
       " 'Milford',\n",
       " 'Notes_@',\n",
       " 'motel']"
      ]
     },
     "execution_count": 70,
     "metadata": {},
     "output_type": "execute_result"
    }
   ],
   "source": [
    "from itertools import islice\n",
    "list(islice(wv.index_to_key, 13000, 13020))"
   ]
  },
  {
   "cell_type": "markdown",
   "id": "ad000847",
   "metadata": {},
   "source": [
    "Now we have a vector for each word. How do we get a vector for a sequence of words (aka a document)?\n",
    "\n",
    "The most naive way is just to take an average. Mike Tamir has suggested that the resulting vector points to a single word summarising the whole document. For example all words in a book ‘A tale of two cities’ should add up to 'class-struggle’"
   ]
  },
  {
   "cell_type": "code",
   "execution_count": 71,
   "id": "4e0c3ad7",
   "metadata": {},
   "outputs": [],
   "source": [
    "def word_avg(wv, word_lst):\n",
    "    mean =  []\n",
    "    for word in word_lst: \n",
    "        if wv.__contains__(word):\n",
    "            mean.append(wv[word])\n",
    "    mean = gensim.matutils.unitvec(np.array(mean).mean(axis=0)).astype(np.float32)\n",
    "    return mean\n",
    "\n",
    "def word_avg2(wv, word_lst):\n",
    "    accum_vec =  np.zeros(wv.vector_size)\n",
    "    count_words = 0\n",
    "    for word in word_lst: \n",
    "        if wv.__contains__(word):\n",
    "            accum_vec += wv[word]\n",
    "            count_words += 1\n",
    "    if count_words > 0:\n",
    "        accum_vec /= count_words\n",
    "        accum_vec /= np.linalg.norm(accum_vec) \n",
    "    return accum_vec\n",
    "\n",
    "def  word_averaging_list(wv, text_list):\n",
    "    return np.vstack([word_avg(wv, review) for review in text_list ])\n",
    "\n",
    "def  word_averaging_list2(wv, text_list):\n",
    "    return np.vstack([word_avg2(wv, review) for review in text_list ])"
   ]
  },
  {
   "cell_type": "markdown",
   "id": "9991d450",
   "metadata": {},
   "source": [
    "A tokenizer function whcih preserves the uppercases. Doesn't change anything for us "
   ]
  },
  {
   "cell_type": "code",
   "execution_count": 72,
   "id": "40ed7745",
   "metadata": {},
   "outputs": [],
   "source": [
    "def w2v_tokenize_text(text):\n",
    "    tokens = []\n",
    "    for sent in nltk.sent_tokenize(text, language='english'):\n",
    "        for word in nltk.word_tokenize(sent, language='english'):\n",
    "            if len(word) < 2:\n",
    "                continue\n",
    "            tokens.append(word)\n",
    "    return tokens"
   ]
  },
  {
   "cell_type": "code",
   "execution_count": 73,
   "id": "c327c579",
   "metadata": {},
   "outputs": [
    {
     "data": {
      "text/html": [
       "<div>\n",
       "<style scoped>\n",
       "    .dataframe tbody tr th:only-of-type {\n",
       "        vertical-align: middle;\n",
       "    }\n",
       "\n",
       "    .dataframe tbody tr th {\n",
       "        vertical-align: top;\n",
       "    }\n",
       "\n",
       "    .dataframe thead th {\n",
       "        text-align: right;\n",
       "    }\n",
       "</style>\n",
       "<table border=\"1\" class=\"dataframe\">\n",
       "  <thead>\n",
       "    <tr style=\"text-align: right;\">\n",
       "      <th></th>\n",
       "      <th>content</th>\n",
       "      <th>type</th>\n",
       "    </tr>\n",
       "  </thead>\n",
       "  <tbody>\n",
       "    <tr>\n",
       "      <th>0</th>\n",
       "      <td>hillari clinton agre john mccain vote give geo...</td>\n",
       "      <td>real</td>\n",
       "    </tr>\n",
       "    <tr>\n",
       "      <th>1</th>\n",
       "      <td>health care reform legisl like mandat free sex...</td>\n",
       "      <td>real</td>\n",
       "    </tr>\n",
       "    <tr>\n",
       "      <th>2</th>\n",
       "      <td>econom turnaround start end term</td>\n",
       "      <td>real</td>\n",
       "    </tr>\n",
       "    <tr>\n",
       "      <th>3</th>\n",
       "      <td>chicago bear start quarterback last &lt; number &gt;...</td>\n",
       "      <td>real</td>\n",
       "    </tr>\n",
       "    <tr>\n",
       "      <th>4</th>\n",
       "      <td>jim dunnam live district repres year</td>\n",
       "      <td>fake</td>\n",
       "    </tr>\n",
       "    <tr>\n",
       "      <th>...</th>\n",
       "      <td>...</td>\n",
       "      <td>...</td>\n",
       "    </tr>\n",
       "    <tr>\n",
       "      <th>12508</th>\n",
       "      <td>first time decad import account less half oil ...</td>\n",
       "      <td>real</td>\n",
       "    </tr>\n",
       "    <tr>\n",
       "      <th>12509</th>\n",
       "      <td>say donald trump bankrupt compani twice four time</td>\n",
       "      <td>real</td>\n",
       "    </tr>\n",
       "    <tr>\n",
       "      <th>12510</th>\n",
       "      <td>john mccain georg bush absolut plan univ healt...</td>\n",
       "      <td>real</td>\n",
       "    </tr>\n",
       "    <tr>\n",
       "      <th>12511</th>\n",
       "      <td>new poll show &lt; number &gt; percent support presi...</td>\n",
       "      <td>fake</td>\n",
       "    </tr>\n",
       "    <tr>\n",
       "      <th>12512</th>\n",
       "      <td>one claim report vindic new jersey gov chris c...</td>\n",
       "      <td>fake</td>\n",
       "    </tr>\n",
       "  </tbody>\n",
       "</table>\n",
       "<p>12513 rows × 2 columns</p>\n",
       "</div>"
      ],
      "text/plain": [
       "                                                 content  type\n",
       "0      hillari clinton agre john mccain vote give geo...  real\n",
       "1      health care reform legisl like mandat free sex...  real\n",
       "2                       econom turnaround start end term  real\n",
       "3      chicago bear start quarterback last < number >...  real\n",
       "4                   jim dunnam live district repres year  fake\n",
       "...                                                  ...   ...\n",
       "12508  first time decad import account less half oil ...  real\n",
       "12509  say donald trump bankrupt compani twice four time  real\n",
       "12510  john mccain georg bush absolut plan univ healt...  real\n",
       "12511  new poll show < number > percent support presi...  fake\n",
       "12512  one claim report vindic new jersey gov chris c...  fake\n",
       "\n",
       "[12513 rows x 2 columns]"
      ]
     },
     "execution_count": 73,
     "metadata": {},
     "output_type": "execute_result"
    }
   ],
   "source": [
    "LIAR_test"
   ]
  },
  {
   "cell_type": "code",
   "execution_count": 74,
   "id": "325308b3",
   "metadata": {},
   "outputs": [
    {
     "name": "stdout",
     "output_type": "stream",
     "text": [
      "Wall time: 1min 6s\n"
     ]
    }
   ],
   "source": [
    "%%time\n",
    "test_tokenized = test_data.apply(lambda r: w2v_tokenize_text(r['content']), axis=1).values\n",
    "train_tokenized = train_data.apply(lambda r: w2v_tokenize_text(r['content']), axis=1).values\n",
    "\n",
    "#For liar dataset\n",
    "test_tokenized_LIAR = LIAR_test.apply(lambda r: w2v_tokenize_text(r['content']), axis=1).values"
   ]
  },
  {
   "cell_type": "code",
   "execution_count": 75,
   "id": "4efbcc51",
   "metadata": {},
   "outputs": [
    {
     "name": "stdout",
     "output_type": "stream",
     "text": [
      "Wall time: 46.6 s\n"
     ]
    }
   ],
   "source": [
    "%%time\n",
    "X_train_word_average = word_averaging_list2(wv,train_tokenized)\n",
    "X_test_word_average = word_averaging_list2(wv,test_tokenized)"
   ]
  },
  {
   "cell_type": "code",
   "execution_count": 76,
   "id": "76da2e5e",
   "metadata": {},
   "outputs": [],
   "source": [
    "#For liar dataset\n",
    "X_test_LIAR_word = word_averaging_list2(wv,test_tokenized_LIAR)"
   ]
  },
  {
   "cell_type": "code",
   "execution_count": 77,
   "id": "05a69ba2",
   "metadata": {},
   "outputs": [
    {
     "data": {
      "text/plain": [
       "array([[-0.02512712,  0.02920723, -0.01342775, ..., -0.06722651,\n",
       "        -0.02093714,  0.04701394],\n",
       "       [-0.03034249,  0.08719108,  0.0135276 , ..., -0.00632232,\n",
       "        -0.00974568,  0.07835492],\n",
       "       [-0.07868972,  0.06924561, -0.04191448, ...,  0.02142466,\n",
       "        -0.00582014, -0.02424655],\n",
       "       ...,\n",
       "       [-0.026734  ,  0.04491908,  0.03881444, ..., -0.0565627 ,\n",
       "        -0.03846441,  0.07978426],\n",
       "       [ 0.00901354,  0.01743798,  0.04165528, ..., -0.02753077,\n",
       "         0.00772472, -0.00835433],\n",
       "       [-0.02301988, -0.01291174, -0.02225298, ..., -0.09297893,\n",
       "        -0.07763655,  0.02741469]])"
      ]
     },
     "execution_count": 77,
     "metadata": {},
     "output_type": "execute_result"
    }
   ],
   "source": [
    "X_test_LIAR_word"
   ]
  },
  {
   "cell_type": "code",
   "execution_count": 78,
   "id": "bc5fe959",
   "metadata": {},
   "outputs": [
    {
     "name": "stdout",
     "output_type": "stream",
     "text": [
      "Wall time: 96.2 ms\n"
     ]
    },
    {
     "data": {
      "text/plain": [
       "KNeighborsClassifier(algorithm='brute', metric='cosine', n_jobs=1,\n",
       "                     n_neighbors=3)"
      ]
     },
     "execution_count": 78,
     "metadata": {},
     "output_type": "execute_result"
    }
   ],
   "source": [
    "%%time\n",
    "knn_naive_dv = KNeighborsClassifier(n_neighbors=3, n_jobs=1, algorithm='brute', metric='cosine' )\n",
    "knn_naive_dv.fit(X_train_word_average, train_data.bin_type)"
   ]
  },
  {
   "cell_type": "code",
   "execution_count": 79,
   "id": "ce9a87c9",
   "metadata": {},
   "outputs": [
    {
     "name": "stdout",
     "output_type": "stream",
     "text": [
      "Wall time: 9.93 s\n"
     ]
    }
   ],
   "source": [
    "%%time\n",
    "predicted = knn_naive_dv.predict(X_test_word_average)"
   ]
  },
  {
   "cell_type": "code",
   "execution_count": 80,
   "id": "260555ac",
   "metadata": {},
   "outputs": [
    {
     "name": "stdout",
     "output_type": "stream",
     "text": [
      "accuracy 0.7568\n",
      "confusion matrix\n",
      " [[4287 1279]\n",
      " [1153 3281]]\n",
      "(row=expected, col=predicted)\n"
     ]
    },
    {
     "data": {
      "image/png": "[encoded data removed]",
      "text/plain": [
       "<Figure size 432x288 with 2 Axes>"
      ]
     },
     "metadata": {
      "needs_background": "light"
     },
     "output_type": "display_data"
    }
   ],
   "source": [
    "evaluate_prediction(predicted, test_data.bin_type)"
   ]
  },
  {
   "cell_type": "markdown",
   "id": "4bb423ae",
   "metadata": {},
   "source": [
    "KNN is almost as bad as 'everything fake' baseline! Let's see if logistic regression is better."
   ]
  },
  {
   "cell_type": "markdown",
   "id": "7b1e2b90",
   "metadata": {},
   "source": [
    "## Log Reg "
   ]
  },
  {
   "cell_type": "code",
   "execution_count": 81,
   "id": "d81519ea",
   "metadata": {},
   "outputs": [
    {
     "name": "stdout",
     "output_type": "stream",
     "text": [
      "Wall time: 4.69 s\n"
     ]
    }
   ],
   "source": [
    "%%time\n",
    "logreg = linear_model.LogisticRegression(n_jobs=1, C=1e5, max_iter=6000)\n",
    "logreg = logreg.fit(X_train_word_average, train_data['bin_type'])\n",
    "\n",
    "predicted = logreg.predict(X_test_word_average)"
   ]
  },
  {
   "cell_type": "code",
   "execution_count": 82,
   "id": "4c84c0bb",
   "metadata": {},
   "outputs": [
    {
     "name": "stdout",
     "output_type": "stream",
     "text": [
      "accuracy 0.7731\n",
      "confusion matrix\n",
      " [[4423 1143]\n",
      " [1126 3308]]\n",
      "(row=expected, col=predicted)\n"
     ]
    },
    {
     "data": {
      "image/png": "[encoded data removed]",
      "text/plain": [
       "<Figure size 432x288 with 2 Axes>"
      ]
     },
     "metadata": {
      "needs_background": "light"
     },
     "output_type": "display_data"
    }
   ],
   "source": [
    "evaluate_prediction(predicted, test_data.bin_type)"
   ]
  },
  {
   "cell_type": "markdown",
   "id": "feaa4c69",
   "metadata": {},
   "source": [
    "### LIAR dataset"
   ]
  },
  {
   "cell_type": "code",
   "execution_count": 83,
   "id": "283a2f77",
   "metadata": {},
   "outputs": [
    {
     "name": "stdout",
     "output_type": "stream",
     "text": [
      "accuracy 0.5720450731239511\n",
      "confusion matrix\n",
      " [[1110 2478]\n",
      " [2877 6048]]\n",
      "(row=expected, col=predicted)\n"
     ]
    },
    {
     "data": {
      "image/png": "[encoded data removed]",
      "text/plain": [
       "<Figure size 432x288 with 2 Axes>"
      ]
     },
     "metadata": {
      "needs_background": "light"
     },
     "output_type": "display_data"
    }
   ],
   "source": [
    "predicted = logreg.predict(X_test_LIAR_word)\n",
    "evaluate_prediction(predicted, LIAR_test.type)"
   ]
  },
  {
   "cell_type": "markdown",
   "id": "4a6a25ac",
   "metadata": {},
   "source": [
    "## Make Random Forrest classification without PCA"
   ]
  },
  {
   "cell_type": "code",
   "execution_count": 84,
   "id": "eaa2d93e",
   "metadata": {},
   "outputs": [],
   "source": [
    "# WE define for measurements Posetive to be real news, and negative to be false news.\n",
    "\n",
    "Rand_forest = RandomForestClassifier(n_estimators = 100, criterion = 'entropy', max_depth = 20, max_features = 'sqrt', n_jobs=8)\n",
    "Rand_forest = Rand_forest.fit(X_train_word_average, train_data['bin_type'])\n",
    "\n",
    "predicted = Rand_forest.predict(X_test_word_average)"
   ]
  },
  {
   "cell_type": "code",
   "execution_count": 85,
   "id": "66ad6232",
   "metadata": {},
   "outputs": [
    {
     "name": "stdout",
     "output_type": "stream",
     "text": [
      "accuracy 0.7865\n",
      "confusion matrix\n",
      " [[4500 1066]\n",
      " [1069 3365]]\n",
      "(row=expected, col=predicted)\n"
     ]
    },
    {
     "data": {
      "image/png": "[encoded data removed]",
      "text/plain": [
       "<Figure size 432x288 with 2 Axes>"
      ]
     },
     "metadata": {
      "needs_background": "light"
     },
     "output_type": "display_data"
    }
   ],
   "source": [
    "evaluate_prediction(predicted, test_data.bin_type)"
   ]
  },
  {
   "cell_type": "markdown",
   "id": "22cce454",
   "metadata": {},
   "source": [
    "### With LIAR"
   ]
  },
  {
   "cell_type": "code",
   "execution_count": 86,
   "id": "fc3183e8",
   "metadata": {},
   "outputs": [
    {
     "name": "stdout",
     "output_type": "stream",
     "text": [
      "accuracy 0.5156237512986495\n",
      "confusion matrix\n",
      " [[1252 2336]\n",
      " [3725 5200]]\n",
      "(row=expected, col=predicted)\n"
     ]
    },
    {
     "data": {
      "image/png": "[encoded data removed]",
      "text/plain": [
       "<Figure size 432x288 with 2 Axes>"
      ]
     },
     "metadata": {
      "needs_background": "light"
     },
     "output_type": "display_data"
    }
   ],
   "source": [
    "predicted = Rand_forest.predict(X_test_LIAR_word)\n",
    "evaluate_prediction(predicted, LIAR_test.type)"
   ]
  },
  {
   "cell_type": "markdown",
   "id": "44825a62",
   "metadata": {},
   "source": [
    "## Bayes Naive"
   ]
  },
  {
   "cell_type": "code",
   "execution_count": 87,
   "id": "72334c53",
   "metadata": {},
   "outputs": [],
   "source": [
    "## Bayes naive  \n",
    "# SCIkit link: https://scikit-learn.org/stable/modules/naive_bayes.html\n",
    "gnb = GaussianNB()\n",
    "gnb = gnb.fit(X_train_word_average, train_data['bin_type'])\n",
    "\n",
    "predicted = gnb.predict(X_test_word_average)"
   ]
  },
  {
   "cell_type": "code",
   "execution_count": 88,
   "id": "94a6b8cb",
   "metadata": {},
   "outputs": [
    {
     "name": "stdout",
     "output_type": "stream",
     "text": [
      "accuracy 0.6383\n",
      "confusion matrix\n",
      " [[2967 2599]\n",
      " [1018 3416]]\n",
      "(row=expected, col=predicted)\n"
     ]
    },
    {
     "data": {
      "image/png": "[encoded data removed]",
      "text/plain": [
       "<Figure size 432x288 with 2 Axes>"
      ]
     },
     "metadata": {
      "needs_background": "light"
     },
     "output_type": "display_data"
    }
   ],
   "source": [
    "evaluate_prediction(predicted, test_data.bin_type)"
   ]
  },
  {
   "cell_type": "markdown",
   "id": "85bdd826",
   "metadata": {},
   "source": [
    "### With LIAR "
   ]
  },
  {
   "cell_type": "code",
   "execution_count": 89,
   "id": "f7119adf",
   "metadata": {},
   "outputs": [
    {
     "name": "stdout",
     "output_type": "stream",
     "text": [
      "accuracy 0.28818029249580435\n",
      "confusion matrix\n",
      " [[3548   40]\n",
      " [8867   58]]\n",
      "(row=expected, col=predicted)\n"
     ]
    },
    {
     "data": {
      "image/png": "[encoded data removed]",
      "text/plain": [
       "<Figure size 432x288 with 2 Axes>"
      ]
     },
     "metadata": {
      "needs_background": "light"
     },
     "output_type": "display_data"
    }
   ],
   "source": [
    "predicted = gnb.predict(X_test_LIAR_word)\n",
    "evaluate_prediction(predicted, LIAR_test.type)"
   ]
  },
  {
   "cell_type": "markdown",
   "id": "d2d16a77",
   "metadata": {},
   "source": [
    "## Neural network "
   ]
  },
  {
   "cell_type": "code",
   "execution_count": 90,
   "id": "edb2c453",
   "metadata": {},
   "outputs": [],
   "source": [
    "clf_word_avg = MLPClassifier(solver='lbfgs', max_iter = 6000, alpha=1e-5, hidden_layer_sizes=(8,2), random_state=1)\n",
    "clf_word_avg = clf_word_avg.fit(X_train_word_average, train_data['bin_type'])\n",
    "\n",
    "predicted = clf_word_avg.predict(X_test_word_average)"
   ]
  },
  {
   "cell_type": "code",
   "execution_count": 91,
   "id": "61b9411a",
   "metadata": {},
   "outputs": [
    {
     "name": "stdout",
     "output_type": "stream",
     "text": [
      "accuracy 0.7976\n",
      "confusion matrix\n",
      " [[4500 1066]\n",
      " [ 958 3476]]\n",
      "(row=expected, col=predicted)\n"
     ]
    },
    {
     "data": {
      "image/png": "[encoded data removed]",
      "text/plain": [
       "<Figure size 432x288 with 2 Axes>"
      ]
     },
     "metadata": {
      "needs_background": "light"
     },
     "output_type": "display_data"
    }
   ],
   "source": [
    "evaluate_prediction(predicted, test_data.bin_type)"
   ]
  },
  {
   "cell_type": "markdown",
   "id": "e9e5eea2",
   "metadata": {},
   "source": [
    "### With LIAR  "
   ]
  },
  {
   "cell_type": "code",
   "execution_count": 92,
   "id": "035748ee",
   "metadata": {},
   "outputs": [
    {
     "name": "stdout",
     "output_type": "stream",
     "text": [
      "accuracy 0.604890913450012\n",
      "confusion matrix\n",
      " [[ 954 2634]\n",
      " [2310 6615]]\n",
      "(row=expected, col=predicted)\n"
     ]
    },
    {
     "data": {
      "image/png": "[encoded data removed]",
      "text/plain": [
       "<Figure size 432x288 with 2 Axes>"
      ]
     },
     "metadata": {
      "needs_background": "light"
     },
     "output_type": "display_data"
    }
   ],
   "source": [
    "predicted = clf_word_avg.predict(X_test_LIAR_word)\n",
    "evaluate_prediction(predicted, LIAR_test.type)"
   ]
  },
  {
   "cell_type": "code",
   "execution_count": null,
   "id": "cc6679c7",
   "metadata": {},
   "outputs": [],
   "source": []
  }
 ],
 "metadata": {
  "kernelspec": {
   "display_name": "Python 3 (ipykernel)",
   "language": "python",
   "name": "python3"
  },
  "language_info": {
   "codemirror_mode": {
    "name": "ipython",
    "version": 3
   },
   "file_extension": ".py",
   "mimetype": "text/x-python",
   "name": "python",
   "nbconvert_exporter": "python",
   "pygments_lexer": "ipython3",
   "version": "3.9.7"
  }
 },
 "nbformat": 4,
 "nbformat_minor": 5
}
